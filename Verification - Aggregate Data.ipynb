{
 "cells": [
  {
   "cell_type": "code",
   "execution_count": null,
   "metadata": {},
   "outputs": [],
   "source": [
    "# Import necessary packages\n",
    "import os.path\n",
    "import numpy as np\n",
    "import pandas as pd\n",
    "import xml.etree.ElementTree as ET\n",
    "import datetime\n",
    "import matplotlib.pyplot as plt\n",
    "import warnings\n",
    "import math\n",
    "import glob\n",
    "from scipy.interpolate import interp1d\n",
    "warnings.filterwarnings(\"ignore\")\n",
    "plt.rcParams['pdf.fonttype'] = 42\n",
    "plt.rcParams['ps.fonttype'] = 42\n",
    "import seaborn as sns"
   ]
  },
  {
   "cell_type": "code",
   "execution_count": null,
   "metadata": {},
   "outputs": [],
   "source": [
    "import pandas as pd\n",
    "import numpy as np\n",
    "# Pick a Wednesday \n",
    "node = '16'\n",
    "path = # Removed\n",
    "node_16 = pd.read_csv(path, names= ['0','1','2','3','4','5','6','7','8','9','10','11','12','13','14','15','16','17','18','19','20','21','22','23','24','25'])\n",
    "node_16.head(5)\n",
    "\n"
   ]
  },
  {
   "cell_type": "code",
   "execution_count": null,
   "metadata": {},
   "outputs": [],
   "source": [
    "def get_df_from_xml(path, legno, laneno, start_date, end_date):\n",
    "    \"\"\"\n",
    "    Convert a xml file for Saturation Flow in SPaT into a Pandas DataFrame\n",
    "    \n",
    "    Parameters\n",
    "    ----------\n",
    "    path       : str (filepath to xml)\n",
    "    legno      : int\n",
    "    laneno     : int\n",
    "    start_date : datetime object\n",
    "    end_date   : datetime object\n",
    "    \"\"\"\n",
    "    \n",
    "    # Extract timestamp and time delay, sec\n",
    "    tree = ET.parse(path)\n",
    "    root = tree.getroot()\n",
    "    time = [] # timestamp\n",
    "    startupLT = [] # time delay in seconds\n",
    "    for satflow in root.iter('SatFlow'):\n",
    "        if ((satflow.attrib['legno']==str(legno)) & \n",
    "            (satflow.attrib['laneno']==str(laneno))):        \n",
    "            time.append(float(satflow.attrib['time']))\n",
    "            startupLT.append(float(satflow.attrib['startupLT'])) \n",
    "\n",
    "    # Convert the unix timestamp to human date\n",
    "    sf_data = pd.DataFrame()\n",
    "    sf_data['unixtime'] = time\n",
    "    sf_data['satflow'] = startupLT\n",
    "    sf_data['datetime'] = sf_data['unixtime'].apply(\n",
    "        lambda x: datetime.datetime.fromtimestamp(x)) \n",
    "\n",
    "    # Filter out: \n",
    "    #      - data out of date range\n",
    "    #      - data with negative saturation flow\n",
    "    sf_data = sf_data[(sf_data['datetime'] >= start_date) \n",
    "                    & (sf_data['datetime'] <= end_date)\n",
    "                    & (sf_data['satflow'] >= 0)].sort_values(\n",
    "                        by='datetime').reset_index(drop=True)\n",
    "    \n",
    "    return sf_data "
   ]
  },
  {
   "cell_type": "code",
   "execution_count": null,
   "metadata": {},
   "outputs": [],
   "source": [
    "tree = ET.parse(path)\n",
    "root = tree.getroot()"
   ]
  },
  {
   "cell_type": "code",
   "execution_count": null,
   "metadata": {},
   "outputs": [],
   "source": [
    "path"
   ]
  },
  {
   "cell_type": "code",
   "execution_count": null,
   "metadata": {},
   "outputs": [],
   "source": [
    "counts = [] # counts\n",
    "time = [] # unix times\n",
    "deltime = [] # unix times for delay\n",
    "delay = [] #avg delay\n",
    "\n",
    "for aggperf in root.iter('AggPerf'):\n",
    "    if (aggperf.attrib['health']=='1'):\n",
    "        for leg in aggperf.iter('Leg'):\n",
    "            if(leg.attrib['no']=='4'):\n",
    "                # Avg delay based on all lanes, but should be fine for verification purposes?\n",
    "                for delaymeasures in leg.iter('DelayMeasures'):\n",
    "                    deltime.append(aggperf.attrib['time'])\n",
    "                    delay.append(delaymeasures.attrib['avgDelay'])\n",
    "                for lanecounts in leg.iter('LaneCounts'):\n",
    "                    if ((lanecounts.attrib['laneNo']!='1') & (lanecounts.attrib['laneNo']!='5') \n",
    "                        & (lanecounts.attrib['laneType'] == 'IB')):\n",
    "                        counts.append(lanecounts.attrib['counts'])\n",
    "                        time.append(aggperf.attrib['time'])\n",
    "            \n"
   ]
  },
  {
   "cell_type": "code",
   "execution_count": null,
   "metadata": {},
   "outputs": [],
   "source": [
    "# Create dataframe with time and vehicle count\n",
    "data = pd.DataFrame()\n",
    "data['unixtime'] = time\n",
    "data['time'] = data['unixtime'].apply(lambda x: datetime.datetime.utcfromtimestamp(int(x)))\n",
    "data['count'] = counts\n",
    "data.head()"
   ]
  },
  {
   "cell_type": "code",
   "execution_count": null,
   "metadata": {},
   "outputs": [],
   "source": [
    "delays = pd.DataFrame()\n",
    "delays['delay'] = delay\n",
    "delays['delay'] = delays['delay'].apply(lambda x: float(x))\n",
    "delays['unixtime'] = deltime\n",
    "delays['time'] = delays['unixtime'].apply(lambda x: datetime.datetime.utcfromtimestamp(int(x)))\n",
    "delays['hour'] = delays['time'].apply(lambda x: x.hour)\n",
    "delays = delays.replace([0, 1, 2, 3,4,5,6,7,8,9,10,11,12,13,14,15,16,17,18,19,20,21,22,23], \n",
    "                  [17, 18 ,19, 20, 21,22,23,0,1,2,3,4,5,6,7,8,9,10,11,12,13,14,15,16])\n",
    "delays.head()"
   ]
  },
  {
   "cell_type": "code",
   "execution_count": null,
   "metadata": {},
   "outputs": [],
   "source": [
    "# Index at which the hour changes\n",
    "idx_hr = delays['hour'].diff()[delays['hour'].diff() != 0].index.values\n",
    "idx_hr = np.append(idx_hr,len(delays)-1)\n",
    "idx_hr"
   ]
  },
  {
   "cell_type": "code",
   "execution_count": null,
   "metadata": {},
   "outputs": [],
   "source": [
    "# Create plots of delay distributions at each hour, aggregated data\n",
    "prev_idx = 0\n",
    "for idx in idx_hr:\n",
    "    hour = str(delays.iloc[idx]['hour'])\n",
    "    plt.figure(figsize = (10,6))\n",
    "    sns.distplot(delays.iloc[prev_idx:idx]['delay'], norm_hist= True)\n",
    "    plt.xlabel(\"Delay (seconds)\")\n",
    "    plt.ylabel(\"Density\")\n",
    "    plt.title(\"Distribution of Delay at Hour \" + hour + \" (Ver)\")\n",
    "    filename = r'\\Node' + node + 'Hour' + hour + '.png'\n",
    "    plt.savefig(#Removed + filename)\n",
    "    prev_idx = idx"
   ]
  }
 ],
 "metadata": {
  "kernelspec": {
   "display_name": "Python 3",
   "language": "python",
   "name": "python3"
  },
  "language_info": {
   "codemirror_mode": {
    "name": "ipython",
    "version": 3
   },
   "file_extension": ".py",
   "mimetype": "text/x-python",
   "name": "python",
   "nbconvert_exporter": "python",
   "pygments_lexer": "ipython3",
   "version": "3.7.6"
  }
 },
 "nbformat": 4,
 "nbformat_minor": 2
}
