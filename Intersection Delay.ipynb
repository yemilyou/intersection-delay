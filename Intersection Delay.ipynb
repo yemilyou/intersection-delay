{
 "cells": [
  {
   "cell_type": "markdown",
   "metadata": {},
   "source": [
    "## Import Data & Necesary Packages"
   ]
  },
  {
   "cell_type": "code",
   "execution_count": null,
   "metadata": {},
   "outputs": [],
   "source": [
    "import os.path\n",
    "import numpy as np\n",
    "import pandas as pd\n",
    "import xml.etree.ElementTree as ET\n",
    "import datetime\n",
    "import matplotlib.pyplot as plt\n",
    "import warnings\n",
    "import math\n",
    "import glob\n",
    "from scipy.interpolate import interp1d\n",
    "warnings.filterwarnings(\"ignore\")\n",
    "plt.rcParams['pdf.fonttype'] = 42\n",
    "plt.rcParams['ps.fonttype'] = 42\n",
    "import seaborn as sns"
   ]
  },
  {
   "cell_type": "code",
   "execution_count": null,
   "metadata": {},
   "outputs": [],
   "source": [
    "import pandas as pd\n",
    "import numpy as np\n",
    "node = '16'\n",
    "path = # Removed for confidentiality\n",
    "node_16 = pd.read_csv(path, names= ['0','1','2','3','4','5','6','7','8','9','10','11','12','13','14','15','16','17','18','19','20','21','22','23','24','25'])\n",
    "node_16.head(5)"
   ]
  },
  {
   "cell_type": "markdown",
   "metadata": {},
   "source": [
    "## Data Processing"
   ]
  },
  {
   "cell_type": "code",
   "execution_count": null,
   "metadata": {},
   "outputs": [],
   "source": [
    "# Create stopbar dataframe \n",
    "stop= node_16.loc[node_16['0']=='LCS']\n",
    "stop = stop.rename(columns={\"0\":\"ID\",\"1\": \"LegNo\", \"2\":\"LaneNo\", \"3\":\"LaneType\"\n",
    "                       ,\"4\":\"Time_event\", \"5\":\"BinEncPhases\", '6':\"SPValid\"\n",
    "                           ,\"7\":\"SP\",\"8\":\"TimeafterPhStrt\", \"9\":\"Time2PhEnd\"\n",
    "                           ,\"10\":\"Occupancy\", '11':\"Speed\"})\n",
    "stop.head()"
   ]
  },
  {
   "cell_type": "code",
   "execution_count": null,
   "metadata": {},
   "outputs": [],
   "source": [
    "# Create adv detector dataframe \n",
    "adv = node_16.loc[node_16['0']=='LCA']\n",
    "adv = adv.rename(columns={\"0\":\"ID\",\"1\": \"LegNo\", \"2\":\"LaneNo\", \"3\":\"LaneType\"\n",
    "                       ,\"4\":\"Time_event\", \"5\":\"BinEncPhases\", '6':\"SPValid\"\n",
    "                           ,\"7\":\"SP\",\"8\":\"TimeafterPhStrt\", \"9\":\"Time2PhEnd\"\n",
    "                           ,\"10\":\"Occupancy\", '11':\"Speed\"})\n",
    "adv.head()"
   ]
  },
  {
   "cell_type": "code",
   "execution_count": null,
   "metadata": {},
   "outputs": [],
   "source": [
    "# Create signal phase dataframe from given SP times\n",
    "sp = node_16.loc[(node_16['0']=='SP')]\n",
    "sp = sp.rename(columns={\"1\":\"Validity\",\"2\":\"TimeEvent\",\"4\":\"CycleNo\",\"5\":\"BarrierNo\",\"6\":\"NoRings\"})\n",
    "sp = sp.loc[sp['Validity']==1]\n",
    "sp.head()"
   ]
  },
  {
   "cell_type": "code",
   "execution_count": null,
   "metadata": {},
   "outputs": [],
   "source": [
    "# AP for active phase\n",
    "sp['AP1'] = np.zeros(len(sp))\n",
    "sp['AP2'] = np.zeros(len(sp))"
   ]
  },
  {
   "cell_type": "code",
   "execution_count": null,
   "metadata": {},
   "outputs": [],
   "source": [
    "# All NoRings are 2\n",
    "sp.loc[sp['NoRings']!=2]"
   ]
  },
  {
   "cell_type": "code",
   "execution_count": null,
   "metadata": {},
   "outputs": [],
   "source": [
    "# All signal phases have 2 barriers\n",
    "sp.loc[(sp['BarrierNo']!=2)&(sp['BarrierNo']!=1)]"
   ]
  },
  {
   "cell_type": "code",
   "execution_count": null,
   "metadata": {},
   "outputs": [],
   "source": [
    "# Since all NoRings are 2, active phase 1 is column 7, active phase 2 is column 8\n",
    "sp.loc[sp['NoRings'] == 2, 'AP1'] = sp.loc[sp['NoRings'] == 2, '7']\n",
    "sp.loc[sp['NoRings'] == 2, 'AP2'] = sp.loc[sp['NoRings'] == 2, '8']\n",
    "sp.head()"
   ]
  },
  {
   "cell_type": "code",
   "execution_count": null,
   "metadata": {},
   "outputs": [],
   "source": [
    "# PhaseNo indicates column no. that has active phase. Depends on BarrierNo.\n",
    "# PhaseState is the state of active phase. (1 – yellow, 2 – green, 0 - red)\n",
    "sp['AP'] = sp.apply(lambda x: (x['7'], x['8']) if x['NoRings']==2 else x['7'], axis=1)\n",
    "sp['PhaseNo'] = sp.apply(lambda x: (x['AP1']+10, x['AP2']+14) if x['BarrierNo']==2 else (x['AP1']+8, x['AP2']+12), axis=1)\n",
    "sp['PhaseState'] = sp.apply(lambda x: (x[str(int(x['PhaseNo'][0]))], x[str(int(x['PhaseNo'][1]))]), axis=1)"
   ]
  },
  {
   "cell_type": "code",
   "execution_count": null,
   "metadata": {},
   "outputs": [],
   "source": [
    "sp.head()"
   ]
  },
  {
   "cell_type": "markdown",
   "metadata": {},
   "source": [
    "# Extracting Red/Green Intervals"
   ]
  },
  {
   "cell_type": "code",
   "execution_count": null,
   "metadata": {},
   "outputs": [],
   "source": [
    "# Reference direction = eastbound (Barrier 1, Ring 1, Phase 2)\n",
    "b2 = sp.loc[(sp['BarrierNo']==1)&(sp['AP1']==2)]\n",
    "b2.head()"
   ]
  },
  {
   "cell_type": "code",
   "execution_count": null,
   "metadata": {},
   "outputs": [],
   "source": [
    "# When PhaseState changes is when red turns to green or vice versa. Delta TimeEvent between events where state doesn't \n",
    "# change is on the magnitude of ~2-3 seconds.\n",
    "\n",
    "# Barrier 1, Ring 1, Phase 2 State\n",
    "b2['Phase2St'] = b2.apply(lambda x:x['PhaseState'][0], axis=1)\n",
    "b2['StBefore'] = b2['PhaseState'].shift(1)\n",
    "b2['StBefore'].iloc[0] = (2,2)\n",
    "b2['Phase2Diff'] = b2['Phase2St'].diff()\n",
    "\n",
    "# Negative Phase2Diff is the row where state decreased, 0 means red so that means time at which light changed to red\n",
    "b2['RedStart'] = b2.apply(lambda x: x['TimeEvent'] if ((x['Phase2Diff']<0)&(x['Phase2St']==0)) else 0, axis=1)\n",
    "# If Phase2Diff >= 1 AND State of one before is 0, means green phase started\n",
    "b2['GreenStart'] = b2.apply(lambda x: x['TimeEvent'] if ((x['Phase2Diff']>=1)&(x['StBefore'][0]==0)) else 0, axis=1)\n",
    "b2 = b2.drop(columns=['Phase2St','Phase2Diff', 'StBefore'])\n",
    "# If negative, red phase started. If positive, green phase started.\n",
    "b2['Green-Red'] = b2['GreenStart']-b2['RedStart']\n",
    "b2.iloc[40:90]"
   ]
  },
  {
   "cell_type": "code",
   "execution_count": null,
   "metadata": {},
   "outputs": [],
   "source": [
    "# To find all green/red intervals\n",
    "time_tbl = b2.iloc[b2['Green-Red'].nonzero()[0]]"
   ]
  },
  {
   "cell_type": "code",
   "execution_count": null,
   "metadata": {},
   "outputs": [],
   "source": [
    "# Last red interval of time_tbl has nan - ignored in calculation (boundary: very last phase)\n",
    "time_tbl['R'] = time_tbl['RedStart'].shift(-1)\n",
    "time_tbl['G'] = time_tbl['GreenStart'].shift(-1)\n",
    "time_tbl['Red_int'] = time_tbl.apply(lambda x: (x['RedStart'],x['G']) if x['Green-Red']<0 else 0, axis=1)\n",
    "time_tbl['Green_int'] = time_tbl.apply(lambda x: (x['GreenStart'],x['R']) if x['Green-Red']>0 else 0, axis=1)\n",
    "time_tbl.tail()"
   ]
  },
  {
   "cell_type": "code",
   "execution_count": null,
   "metadata": {},
   "outputs": [],
   "source": [
    "# Extracting green and red intervals from time_tbl\n",
    "green_ints = time_tbl.iloc[time_tbl['Green_int'].nonzero()]['Green_int']\n",
    "red_ints = time_tbl.iloc[time_tbl['Red_int'].nonzero()]['Red_int']"
   ]
  },
  {
   "cell_type": "code",
   "execution_count": null,
   "metadata": {},
   "outputs": [],
   "source": [
    "# Creating dataframes of red/green intervals\n",
    "red_int_df = red_ints.apply(pd.Series)\n",
    "red_int_df.columns=['start','end']\n",
    "green_int_df = green_ints.apply(pd.Series)\n",
    "green_int_df.columns=['start','end']\n",
    "# Last row may have NaN b/c it's a bounday\n",
    "green_int_df = green_int_df[:-1]"
   ]
  },
  {
   "cell_type": "code",
   "execution_count": null,
   "metadata": {},
   "outputs": [],
   "source": [
    "# Extract hours of green start times to see distribution of data\n",
    "green_int_df['time'] = green_int_df['start'].apply(lambda x: datetime.datetime.utcfromtimestamp(int(x)))\n",
    "green_int_df['Hour'] = green_int_df['time'].apply(lambda x: x.hour)\n",
    "green_int_df['endtime'] = green_int_df['end'].apply(lambda x: datetime.datetime.utcfromtimestamp(int(x)))\n",
    "green_int_df['endHour'] = green_int_df['endtime'].apply(lambda x: x.hour)\n",
    "green_int_df = green_int_df.replace([0, 1, 2, 3,4,5,6,7,8,9,10,11,12,13,14,15,16,17,18,19,20,21,22,23], \n",
    "                  [17, 18 ,19, 20, 21,22,23,0,1,2,3,4,5,6,7,8,9,10,11,12,13,14,15,16])"
   ]
  },
  {
   "cell_type": "code",
   "execution_count": null,
   "metadata": {},
   "outputs": [],
   "source": [
    "# Distribution of green_interval start times (PST)\n",
    "sns.distplot(green_int_df['Hour'], bins = 24);"
   ]
  },
  {
   "cell_type": "markdown",
   "metadata": {},
   "source": [
    "# Delay Calculation"
   ]
  },
  {
   "cell_type": "code",
   "execution_count": null,
   "metadata": {},
   "outputs": [],
   "source": [
    "df= green_int_df\n",
    "df = df.reset_index()\n",
    "df.head()"
   ]
  },
  {
   "cell_type": "code",
   "execution_count": null,
   "metadata": {},
   "outputs": [],
   "source": [
    "# Each phase is about ~50-60 seconds\n",
    "df['length'] = df['end']-df['start']\n",
    "df.iloc[180:190]"
   ]
  },
  {
   "cell_type": "code",
   "execution_count": null,
   "metadata": {},
   "outputs": [],
   "source": [
    "# Indices where the starting hour changes\n",
    "idx_hr = df['Hour'].diff()[df['Hour'].diff() != 0].index.values\n",
    "idx_hr = np.append(idx_hr,len(df)-1)\n",
    "idx_hr"
   ]
  },
  {
   "cell_type": "code",
   "execution_count": null,
   "metadata": {},
   "outputs": [],
   "source": [
    "# Final Delay Calculation Method\n",
    "# For multiple intervals across different hours\n",
    "avg_delay_hrs = np.array([])\n",
    "prev_idx = 0\n",
    "# Looping through each hour\n",
    "for idx in idx_hr:\n",
    "    hour = str(df.iloc[idx]['Hour'])\n",
    "    delays = np.array([])\n",
    "    # Looping through each green interval in the hour\n",
    "    for i in np.delete(np.arange(idx),np.arange(prev_idx)):\n",
    "        in_queue = 0\n",
    "        adv_red = 0\n",
    "        # If spans more than 1 hour, do not include in delay calculation\n",
    "        if ((np.abs(df.iloc[i]['endHour'] - df.iloc[i]['Hour']) >1) or (df.iloc[i]['length']>2500)):\n",
    "            continue\n",
    "            \n",
    "        # Number of vehicles that passed the stop bar detector during first green interval\n",
    "        temp = stop.loc[(stop['Time_event']>=df['start'].iloc[i])&(stop['Time_event']<=df['end'].iloc[i])]\n",
    "        if len(temp)!= 0:\n",
    "            temp['diff'] = temp.apply(lambda x: x['Time_event']-df['start'].iloc[i], axis=1)\n",
    "            temp_sort = temp.sort_values(by='diff')\n",
    "            temp_sort = temp_sort.loc[(temp_sort['SP']!=0)&(temp_sort['LaneNo']!=1)&(temp_sort['LaneNo']!=5)\n",
    "                                      & (temp_sort['LegNo']==4)& (temp_sort['LaneType']==1)& (temp_sort['SPValid']==1)]\n",
    "            passed_stop = len(temp_sort)\n",
    "\n",
    "        # Same thing but for advance detectors\n",
    "        temp1 = adv.loc[(adv['Time_event']>=df['start'].iloc[i])&(adv['Time_event']<=df['end'].iloc[i])]\n",
    "        if len(temp1)!=0:\n",
    "            temp1['diff'] = temp1.apply(lambda x: x['Time_event']-df['start'].iloc[i], axis=1)\n",
    "            temp_sort1 = temp1.sort_values(by='diff')\n",
    "            temp_sort1 = temp_sort1.loc[(temp_sort1['SP']!=0)&(temp_sort1['LaneNo']!=1)&(temp_sort1['LaneNo']!=5)\n",
    "                                        & (temp_sort1['LegNo']==4)&(temp_sort1['LaneType']==1)& (temp_sort1['SPValid']==1)] \n",
    "            passed_adv = len(temp_sort1)\n",
    "            in_queue = passed_adv-passed_stop\n",
    "            if in_queue<0:\n",
    "                in_queue = 0\n",
    "        \n",
    "        # No. of vehicles that passed the advance detector during red interval\n",
    "        advred = adv.loc[(adv['Time_event']>=df['end'].iloc[i])&(adv['Time_event']<=df['start'].iloc[i+1])]\n",
    "        if len(advred)!=0:\n",
    "            advred['diff'] = advred.apply(lambda x:x['Time_event'] - df['end'].iloc[i], axis=1)\n",
    "            advred_sort = advred.sort_values(by='diff')\n",
    "            advred_sort = advred_sort.loc[(advred_sort['SP']==0)&(advred_sort['LaneNo']!=1)&(advred_sort['LaneNo']!=5)\n",
    "                                          & (advred_sort['LegNo']==4)&(advred_sort['LaneType']==1)\n",
    "                                          & (advred_sort['SPValid']==1)] \n",
    "            adv_red = len(advred_sort)\n",
    "            in_queue = in_queue + adv_red\n",
    "\n",
    "        # Sorted stop detector array for next green interval\n",
    "        temp2 = stop.loc[(stop['Time_event']>=df['start'].iloc[i+1])&(stop['Time_event']<=df['end'].iloc[i+1])]\n",
    "        if len(temp2)!=0:\n",
    "            temp2['diff'] = temp2.apply(lambda x: x['Time_event']-df['start'].iloc[i+1], axis=1)\n",
    "            temp_sort2 = temp2.sort_values(by='diff')\n",
    "            temp_sort2 = temp_sort2.loc[(temp_sort2['SP']!=0)&(temp_sort2['LaneNo']!=1)&(temp_sort2['LaneNo']!=5)\n",
    "                                        & (temp_sort2['LegNo']==4)& (temp_sort2['LaneType']==1)& (temp_sort2['SPValid']==1)]\n",
    "\n",
    "        if ((in_queue>0) & (len(temp_sort2)>0)):\n",
    "            if in_queue <= len(temp_sort2):\n",
    "                delay_Q = temp_sort2.iloc[in_queue-1]['diff']\n",
    "            else:\n",
    "                delay_Q = temp_sort2.iloc[-1]['diff']\n",
    "\n",
    "        # If there are no queued vehicles, no vehicles passing stop bar during next green phase, or both\n",
    "        else: \n",
    "            delay_Q = 0\n",
    "        # Average delay for the green interval\n",
    "        delays = np.append(delays,delay_Q)\n",
    "        \n",
    "    # Delay distribution across different hours\n",
    "    prev_idx = idx\n",
    "    plt.figure(figsize = (10,6))\n",
    "    ax = sns.distplot(delays, norm_hist = True)\n",
    "    plt.xlabel(\"Delay (seconds)\")\n",
    "    plt.ylabel(\"Density\")\n",
    "    plt.title(\"Distribution of Delay at Hour \" + hour)\n",
    "    filename = 'Node' + node + 'Hour' + hour + '.png'\n",
    "    plt.savefig(filename)\n",
    "    \n",
    "    # Save calculated delay\n",
    "    delays_hr = pd.DataFrame([])\n",
    "    delays_hr['Delay'] = delays\n",
    "    filename = #Removed\n",
    "    delays_hr.to_csv (filename, index = None, header=True)\n"
   ]
  },
  {
   "cell_type": "code",
   "execution_count": null,
   "metadata": {},
   "outputs": [],
   "source": [
    "delays_hr = pd.DataFrame([])\n",
    "delays_hr['Delay'] = delays\n",
    "delays_hr.head()"
   ]
  },
  {
   "cell_type": "code",
   "execution_count": null,
   "metadata": {},
   "outputs": [],
   "source": [
    "sns.distplot(delays)"
   ]
  },
  {
   "cell_type": "code",
   "execution_count": null,
   "metadata": {},
   "outputs": [],
   "source": []
  }
 ],
 "metadata": {
  "kernelspec": {
   "display_name": "Python 3",
   "language": "python",
   "name": "python3"
  },
  "language_info": {
   "codemirror_mode": {
    "name": "ipython",
    "version": 3
   },
   "file_extension": ".py",
   "mimetype": "text/x-python",
   "name": "python",
   "nbconvert_exporter": "python",
   "pygments_lexer": "ipython3",
   "version": "3.7.6"
  }
 },
 "nbformat": 4,
 "nbformat_minor": 2
}
